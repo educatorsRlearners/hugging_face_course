{
  "nbformat": 4,
  "nbformat_minor": 0,
  "metadata": {
    "colab": {
      "name": "05_the_🤗_Datasets_library_continued.ipynb",
      "provenance": [],
      "collapsed_sections": [],
      "authorship_tag": "ABX9TyPYBt2q5fJ9QxfY9lVS9pjm",
      "include_colab_link": true
    },
    "kernelspec": {
      "name": "python3",
      "display_name": "Python 3"
    },
    "language_info": {
      "name": "python"
    },
    "widgets": {
      "application/vnd.jupyter.widget-state+json": {
        "60f63c1b198d4b76b02c75005ef4735d": {
          "model_module": "@jupyter-widgets/controls",
          "model_name": "HBoxModel",
          "model_module_version": "1.5.0",
          "state": {
            "_view_name": "HBoxView",
            "_dom_classes": [],
            "_model_name": "HBoxModel",
            "_view_module": "@jupyter-widgets/controls",
            "_model_module_version": "1.5.0",
            "_view_count": null,
            "_view_module_version": "1.5.0",
            "box_style": "",
            "layout": "IPY_MODEL_c4598bf0cfb2441ca0bd4dcc0739e91a",
            "_model_module": "@jupyter-widgets/controls",
            "children": [
              "IPY_MODEL_4b70c4a4e1e940258e018ea2dac67109",
              "IPY_MODEL_084533d0f1f94a66a23702495e5ea95a",
              "IPY_MODEL_88c2698e9e3d450f8245a22323649df7"
            ]
          }
        },
        "c4598bf0cfb2441ca0bd4dcc0739e91a": {
          "model_module": "@jupyter-widgets/base",
          "model_name": "LayoutModel",
          "model_module_version": "1.2.0",
          "state": {
            "_view_name": "LayoutView",
            "grid_template_rows": null,
            "right": null,
            "justify_content": null,
            "_view_module": "@jupyter-widgets/base",
            "overflow": null,
            "_model_module_version": "1.2.0",
            "_view_count": null,
            "flex_flow": null,
            "width": null,
            "min_width": null,
            "border": null,
            "align_items": null,
            "bottom": null,
            "_model_module": "@jupyter-widgets/base",
            "top": null,
            "grid_column": null,
            "overflow_y": null,
            "overflow_x": null,
            "grid_auto_flow": null,
            "grid_area": null,
            "grid_template_columns": null,
            "flex": null,
            "_model_name": "LayoutModel",
            "justify_items": null,
            "grid_row": null,
            "max_height": null,
            "align_content": null,
            "visibility": null,
            "align_self": null,
            "height": null,
            "min_height": null,
            "padding": null,
            "grid_auto_rows": null,
            "grid_gap": null,
            "max_width": null,
            "order": null,
            "_view_module_version": "1.2.0",
            "grid_template_areas": null,
            "object_position": null,
            "object_fit": null,
            "grid_auto_columns": null,
            "margin": null,
            "display": null,
            "left": null
          }
        },
        "4b70c4a4e1e940258e018ea2dac67109": {
          "model_module": "@jupyter-widgets/controls",
          "model_name": "HTMLModel",
          "model_module_version": "1.5.0",
          "state": {
            "_view_name": "HTMLView",
            "style": "IPY_MODEL_61b08fcf972f40b7acefb963720d7579",
            "_dom_classes": [],
            "description": "",
            "_model_name": "HTMLModel",
            "placeholder": "​",
            "_view_module": "@jupyter-widgets/controls",
            "_model_module_version": "1.5.0",
            "value": "100%",
            "_view_count": null,
            "_view_module_version": "1.5.0",
            "description_tooltip": null,
            "_model_module": "@jupyter-widgets/controls",
            "layout": "IPY_MODEL_902fd0d11edd4f8b9a6ff10603bc97d5"
          }
        },
        "084533d0f1f94a66a23702495e5ea95a": {
          "model_module": "@jupyter-widgets/controls",
          "model_name": "FloatProgressModel",
          "model_module_version": "1.5.0",
          "state": {
            "_view_name": "ProgressView",
            "style": "IPY_MODEL_654368daec2d4801ac2c01975f240e1b",
            "_dom_classes": [],
            "description": "",
            "_model_name": "FloatProgressModel",
            "bar_style": "success",
            "max": 1,
            "_view_module": "@jupyter-widgets/controls",
            "_model_module_version": "1.5.0",
            "value": 1,
            "_view_count": null,
            "_view_module_version": "1.5.0",
            "orientation": "horizontal",
            "min": 0,
            "description_tooltip": null,
            "_model_module": "@jupyter-widgets/controls",
            "layout": "IPY_MODEL_68429bbe79ff4e05a3865d2f2020e3a7"
          }
        },
        "88c2698e9e3d450f8245a22323649df7": {
          "model_module": "@jupyter-widgets/controls",
          "model_name": "HTMLModel",
          "model_module_version": "1.5.0",
          "state": {
            "_view_name": "HTMLView",
            "style": "IPY_MODEL_db781800ae6542448abb62e050c1bf52",
            "_dom_classes": [],
            "description": "",
            "_model_name": "HTMLModel",
            "placeholder": "​",
            "_view_module": "@jupyter-widgets/controls",
            "_model_module_version": "1.5.0",
            "value": " 1/1 [00:02&lt;00:00,  2.05s/it]",
            "_view_count": null,
            "_view_module_version": "1.5.0",
            "description_tooltip": null,
            "_model_module": "@jupyter-widgets/controls",
            "layout": "IPY_MODEL_f6e650a43e3a47f79a6393e70b03b8d9"
          }
        },
        "61b08fcf972f40b7acefb963720d7579": {
          "model_module": "@jupyter-widgets/controls",
          "model_name": "DescriptionStyleModel",
          "model_module_version": "1.5.0",
          "state": {
            "_view_name": "StyleView",
            "_model_name": "DescriptionStyleModel",
            "description_width": "",
            "_view_module": "@jupyter-widgets/base",
            "_model_module_version": "1.5.0",
            "_view_count": null,
            "_view_module_version": "1.2.0",
            "_model_module": "@jupyter-widgets/controls"
          }
        },
        "902fd0d11edd4f8b9a6ff10603bc97d5": {
          "model_module": "@jupyter-widgets/base",
          "model_name": "LayoutModel",
          "model_module_version": "1.2.0",
          "state": {
            "_view_name": "LayoutView",
            "grid_template_rows": null,
            "right": null,
            "justify_content": null,
            "_view_module": "@jupyter-widgets/base",
            "overflow": null,
            "_model_module_version": "1.2.0",
            "_view_count": null,
            "flex_flow": null,
            "width": null,
            "min_width": null,
            "border": null,
            "align_items": null,
            "bottom": null,
            "_model_module": "@jupyter-widgets/base",
            "top": null,
            "grid_column": null,
            "overflow_y": null,
            "overflow_x": null,
            "grid_auto_flow": null,
            "grid_area": null,
            "grid_template_columns": null,
            "flex": null,
            "_model_name": "LayoutModel",
            "justify_items": null,
            "grid_row": null,
            "max_height": null,
            "align_content": null,
            "visibility": null,
            "align_self": null,
            "height": null,
            "min_height": null,
            "padding": null,
            "grid_auto_rows": null,
            "grid_gap": null,
            "max_width": null,
            "order": null,
            "_view_module_version": "1.2.0",
            "grid_template_areas": null,
            "object_position": null,
            "object_fit": null,
            "grid_auto_columns": null,
            "margin": null,
            "display": null,
            "left": null
          }
        },
        "654368daec2d4801ac2c01975f240e1b": {
          "model_module": "@jupyter-widgets/controls",
          "model_name": "ProgressStyleModel",
          "model_module_version": "1.5.0",
          "state": {
            "_view_name": "StyleView",
            "_model_name": "ProgressStyleModel",
            "description_width": "",
            "_view_module": "@jupyter-widgets/base",
            "_model_module_version": "1.5.0",
            "_view_count": null,
            "_view_module_version": "1.2.0",
            "bar_color": null,
            "_model_module": "@jupyter-widgets/controls"
          }
        },
        "68429bbe79ff4e05a3865d2f2020e3a7": {
          "model_module": "@jupyter-widgets/base",
          "model_name": "LayoutModel",
          "model_module_version": "1.2.0",
          "state": {
            "_view_name": "LayoutView",
            "grid_template_rows": null,
            "right": null,
            "justify_content": null,
            "_view_module": "@jupyter-widgets/base",
            "overflow": null,
            "_model_module_version": "1.2.0",
            "_view_count": null,
            "flex_flow": null,
            "width": null,
            "min_width": null,
            "border": null,
            "align_items": null,
            "bottom": null,
            "_model_module": "@jupyter-widgets/base",
            "top": null,
            "grid_column": null,
            "overflow_y": null,
            "overflow_x": null,
            "grid_auto_flow": null,
            "grid_area": null,
            "grid_template_columns": null,
            "flex": null,
            "_model_name": "LayoutModel",
            "justify_items": null,
            "grid_row": null,
            "max_height": null,
            "align_content": null,
            "visibility": null,
            "align_self": null,
            "height": null,
            "min_height": null,
            "padding": null,
            "grid_auto_rows": null,
            "grid_gap": null,
            "max_width": null,
            "order": null,
            "_view_module_version": "1.2.0",
            "grid_template_areas": null,
            "object_position": null,
            "object_fit": null,
            "grid_auto_columns": null,
            "margin": null,
            "display": null,
            "left": null
          }
        },
        "db781800ae6542448abb62e050c1bf52": {
          "model_module": "@jupyter-widgets/controls",
          "model_name": "DescriptionStyleModel",
          "model_module_version": "1.5.0",
          "state": {
            "_view_name": "StyleView",
            "_model_name": "DescriptionStyleModel",
            "description_width": "",
            "_view_module": "@jupyter-widgets/base",
            "_model_module_version": "1.5.0",
            "_view_count": null,
            "_view_module_version": "1.2.0",
            "_model_module": "@jupyter-widgets/controls"
          }
        },
        "f6e650a43e3a47f79a6393e70b03b8d9": {
          "model_module": "@jupyter-widgets/base",
          "model_name": "LayoutModel",
          "model_module_version": "1.2.0",
          "state": {
            "_view_name": "LayoutView",
            "grid_template_rows": null,
            "right": null,
            "justify_content": null,
            "_view_module": "@jupyter-widgets/base",
            "overflow": null,
            "_model_module_version": "1.2.0",
            "_view_count": null,
            "flex_flow": null,
            "width": null,
            "min_width": null,
            "border": null,
            "align_items": null,
            "bottom": null,
            "_model_module": "@jupyter-widgets/base",
            "top": null,
            "grid_column": null,
            "overflow_y": null,
            "overflow_x": null,
            "grid_auto_flow": null,
            "grid_area": null,
            "grid_template_columns": null,
            "flex": null,
            "_model_name": "LayoutModel",
            "justify_items": null,
            "grid_row": null,
            "max_height": null,
            "align_content": null,
            "visibility": null,
            "align_self": null,
            "height": null,
            "min_height": null,
            "padding": null,
            "grid_auto_rows": null,
            "grid_gap": null,
            "max_width": null,
            "order": null,
            "_view_module_version": "1.2.0",
            "grid_template_areas": null,
            "object_position": null,
            "object_fit": null,
            "grid_auto_columns": null,
            "margin": null,
            "display": null,
            "left": null
          }
        },
        "95d54965e5f74e74a73a06bdab16d687": {
          "model_module": "@jupyter-widgets/controls",
          "model_name": "HBoxModel",
          "model_module_version": "1.5.0",
          "state": {
            "_view_name": "HBoxView",
            "_dom_classes": [],
            "_model_name": "HBoxModel",
            "_view_module": "@jupyter-widgets/controls",
            "_model_module_version": "1.5.0",
            "_view_count": null,
            "_view_module_version": "1.5.0",
            "box_style": "",
            "layout": "IPY_MODEL_a4fc0193232443be971f70b4a8dac09d",
            "_model_module": "@jupyter-widgets/controls",
            "children": [
              "IPY_MODEL_691cf9fbaaf140e4af3296b89122f2e4",
              "IPY_MODEL_8d2da220d36b42a997cb146ee9652d18",
              "IPY_MODEL_4a245bc3c9274760b4f5f3237d7996d7"
            ]
          }
        },
        "a4fc0193232443be971f70b4a8dac09d": {
          "model_module": "@jupyter-widgets/base",
          "model_name": "LayoutModel",
          "model_module_version": "1.2.0",
          "state": {
            "_view_name": "LayoutView",
            "grid_template_rows": null,
            "right": null,
            "justify_content": null,
            "_view_module": "@jupyter-widgets/base",
            "overflow": null,
            "_model_module_version": "1.2.0",
            "_view_count": null,
            "flex_flow": null,
            "width": null,
            "min_width": null,
            "border": null,
            "align_items": null,
            "bottom": null,
            "_model_module": "@jupyter-widgets/base",
            "top": null,
            "grid_column": null,
            "overflow_y": null,
            "overflow_x": null,
            "grid_auto_flow": null,
            "grid_area": null,
            "grid_template_columns": null,
            "flex": null,
            "_model_name": "LayoutModel",
            "justify_items": null,
            "grid_row": null,
            "max_height": null,
            "align_content": null,
            "visibility": null,
            "align_self": null,
            "height": null,
            "min_height": null,
            "padding": null,
            "grid_auto_rows": null,
            "grid_gap": null,
            "max_width": null,
            "order": null,
            "_view_module_version": "1.2.0",
            "grid_template_areas": null,
            "object_position": null,
            "object_fit": null,
            "grid_auto_columns": null,
            "margin": null,
            "display": null,
            "left": null
          }
        },
        "691cf9fbaaf140e4af3296b89122f2e4": {
          "model_module": "@jupyter-widgets/controls",
          "model_name": "HTMLModel",
          "model_module_version": "1.5.0",
          "state": {
            "_view_name": "HTMLView",
            "style": "IPY_MODEL_aad9c1b039c247069082a18974de9115",
            "_dom_classes": [],
            "description": "",
            "_model_name": "HTMLModel",
            "placeholder": "​",
            "_view_module": "@jupyter-widgets/controls",
            "_model_module_version": "1.5.0",
            "value": "100%",
            "_view_count": null,
            "_view_module_version": "1.5.0",
            "description_tooltip": null,
            "_model_module": "@jupyter-widgets/controls",
            "layout": "IPY_MODEL_94079e62ed1947d28d5824a482f974c9"
          }
        },
        "8d2da220d36b42a997cb146ee9652d18": {
          "model_module": "@jupyter-widgets/controls",
          "model_name": "FloatProgressModel",
          "model_module_version": "1.5.0",
          "state": {
            "_view_name": "ProgressView",
            "style": "IPY_MODEL_7c64f68f6cca4a2abd39d451fc14a446",
            "_dom_classes": [],
            "description": "",
            "_model_name": "FloatProgressModel",
            "bar_style": "success",
            "max": 1,
            "_view_module": "@jupyter-widgets/controls",
            "_model_module_version": "1.5.0",
            "value": 1,
            "_view_count": null,
            "_view_module_version": "1.5.0",
            "orientation": "horizontal",
            "min": 0,
            "description_tooltip": null,
            "_model_module": "@jupyter-widgets/controls",
            "layout": "IPY_MODEL_a5f14e671a3f490a8f7d7039e983387e"
          }
        },
        "4a245bc3c9274760b4f5f3237d7996d7": {
          "model_module": "@jupyter-widgets/controls",
          "model_name": "HTMLModel",
          "model_module_version": "1.5.0",
          "state": {
            "_view_name": "HTMLView",
            "style": "IPY_MODEL_a96f4de2e38748a192e31ca82763a176",
            "_dom_classes": [],
            "description": "",
            "_model_name": "HTMLModel",
            "placeholder": "​",
            "_view_module": "@jupyter-widgets/controls",
            "_model_module_version": "1.5.0",
            "value": " 1/1 [00:00&lt;00:00, 14.71it/s]",
            "_view_count": null,
            "_view_module_version": "1.5.0",
            "description_tooltip": null,
            "_model_module": "@jupyter-widgets/controls",
            "layout": "IPY_MODEL_d88b5d3d573442878fc7621268bfcf9a"
          }
        },
        "aad9c1b039c247069082a18974de9115": {
          "model_module": "@jupyter-widgets/controls",
          "model_name": "DescriptionStyleModel",
          "model_module_version": "1.5.0",
          "state": {
            "_view_name": "StyleView",
            "_model_name": "DescriptionStyleModel",
            "description_width": "",
            "_view_module": "@jupyter-widgets/base",
            "_model_module_version": "1.5.0",
            "_view_count": null,
            "_view_module_version": "1.2.0",
            "_model_module": "@jupyter-widgets/controls"
          }
        },
        "94079e62ed1947d28d5824a482f974c9": {
          "model_module": "@jupyter-widgets/base",
          "model_name": "LayoutModel",
          "model_module_version": "1.2.0",
          "state": {
            "_view_name": "LayoutView",
            "grid_template_rows": null,
            "right": null,
            "justify_content": null,
            "_view_module": "@jupyter-widgets/base",
            "overflow": null,
            "_model_module_version": "1.2.0",
            "_view_count": null,
            "flex_flow": null,
            "width": null,
            "min_width": null,
            "border": null,
            "align_items": null,
            "bottom": null,
            "_model_module": "@jupyter-widgets/base",
            "top": null,
            "grid_column": null,
            "overflow_y": null,
            "overflow_x": null,
            "grid_auto_flow": null,
            "grid_area": null,
            "grid_template_columns": null,
            "flex": null,
            "_model_name": "LayoutModel",
            "justify_items": null,
            "grid_row": null,
            "max_height": null,
            "align_content": null,
            "visibility": null,
            "align_self": null,
            "height": null,
            "min_height": null,
            "padding": null,
            "grid_auto_rows": null,
            "grid_gap": null,
            "max_width": null,
            "order": null,
            "_view_module_version": "1.2.0",
            "grid_template_areas": null,
            "object_position": null,
            "object_fit": null,
            "grid_auto_columns": null,
            "margin": null,
            "display": null,
            "left": null
          }
        },
        "7c64f68f6cca4a2abd39d451fc14a446": {
          "model_module": "@jupyter-widgets/controls",
          "model_name": "ProgressStyleModel",
          "model_module_version": "1.5.0",
          "state": {
            "_view_name": "StyleView",
            "_model_name": "ProgressStyleModel",
            "description_width": "",
            "_view_module": "@jupyter-widgets/base",
            "_model_module_version": "1.5.0",
            "_view_count": null,
            "_view_module_version": "1.2.0",
            "bar_color": null,
            "_model_module": "@jupyter-widgets/controls"
          }
        },
        "a5f14e671a3f490a8f7d7039e983387e": {
          "model_module": "@jupyter-widgets/base",
          "model_name": "LayoutModel",
          "model_module_version": "1.2.0",
          "state": {
            "_view_name": "LayoutView",
            "grid_template_rows": null,
            "right": null,
            "justify_content": null,
            "_view_module": "@jupyter-widgets/base",
            "overflow": null,
            "_model_module_version": "1.2.0",
            "_view_count": null,
            "flex_flow": null,
            "width": null,
            "min_width": null,
            "border": null,
            "align_items": null,
            "bottom": null,
            "_model_module": "@jupyter-widgets/base",
            "top": null,
            "grid_column": null,
            "overflow_y": null,
            "overflow_x": null,
            "grid_auto_flow": null,
            "grid_area": null,
            "grid_template_columns": null,
            "flex": null,
            "_model_name": "LayoutModel",
            "justify_items": null,
            "grid_row": null,
            "max_height": null,
            "align_content": null,
            "visibility": null,
            "align_self": null,
            "height": null,
            "min_height": null,
            "padding": null,
            "grid_auto_rows": null,
            "grid_gap": null,
            "max_width": null,
            "order": null,
            "_view_module_version": "1.2.0",
            "grid_template_areas": null,
            "object_position": null,
            "object_fit": null,
            "grid_auto_columns": null,
            "margin": null,
            "display": null,
            "left": null
          }
        },
        "a96f4de2e38748a192e31ca82763a176": {
          "model_module": "@jupyter-widgets/controls",
          "model_name": "DescriptionStyleModel",
          "model_module_version": "1.5.0",
          "state": {
            "_view_name": "StyleView",
            "_model_name": "DescriptionStyleModel",
            "description_width": "",
            "_view_module": "@jupyter-widgets/base",
            "_model_module_version": "1.5.0",
            "_view_count": null,
            "_view_module_version": "1.2.0",
            "_model_module": "@jupyter-widgets/controls"
          }
        },
        "d88b5d3d573442878fc7621268bfcf9a": {
          "model_module": "@jupyter-widgets/base",
          "model_name": "LayoutModel",
          "model_module_version": "1.2.0",
          "state": {
            "_view_name": "LayoutView",
            "grid_template_rows": null,
            "right": null,
            "justify_content": null,
            "_view_module": "@jupyter-widgets/base",
            "overflow": null,
            "_model_module_version": "1.2.0",
            "_view_count": null,
            "flex_flow": null,
            "width": null,
            "min_width": null,
            "border": null,
            "align_items": null,
            "bottom": null,
            "_model_module": "@jupyter-widgets/base",
            "top": null,
            "grid_column": null,
            "overflow_y": null,
            "overflow_x": null,
            "grid_auto_flow": null,
            "grid_area": null,
            "grid_template_columns": null,
            "flex": null,
            "_model_name": "LayoutModel",
            "justify_items": null,
            "grid_row": null,
            "max_height": null,
            "align_content": null,
            "visibility": null,
            "align_self": null,
            "height": null,
            "min_height": null,
            "padding": null,
            "grid_auto_rows": null,
            "grid_gap": null,
            "max_width": null,
            "order": null,
            "_view_module_version": "1.2.0",
            "grid_template_areas": null,
            "object_position": null,
            "object_fit": null,
            "grid_auto_columns": null,
            "margin": null,
            "display": null,
            "left": null
          }
        }
      }
    }
  },
  "cells": [
    {
      "cell_type": "markdown",
      "metadata": {
        "id": "view-in-github",
        "colab_type": "text"
      },
      "source": [
        "<a href=\"https://colab.research.google.com/github/educatorsRlearners/hugging_face_course/blob/main/05_the_%F0%9F%A4%97_Datasets_library_continued.ipynb\" target=\"_parent\"><img src=\"https://colab.research.google.com/assets/colab-badge.svg\" alt=\"Open In Colab\"/></a>"
      ]
    },
    {
      "cell_type": "markdown",
      "source": [
        "# Creating your own dataset\n",
        "\n",
        "After you've framed the problem, the next step is to source your data\n",
        "\n",
        "But what if that dataset doesn't exist?\n",
        "\n",
        "Well, life is not a Kaggle competition - i.e., people aren't going to provide you with a neatly structured csv file to do your EDA and build your model with.\n",
        "\n",
        "Therefore, let's explore one possible path for sourcing data: scraping websites with ```requests```. \n",
        "\n",
        "## [Getting the data](https://huggingface.co/course/chapter5/5?fw=pt#getting-the-data)\n",
        "\n",
        "We could code along with the chpater and download download 🤗Datasets [Issues tab](https://github.com/huggingface/datasets/issues) by using GitHub's REST API to poll the Issues endpoint which will return a list of JSON objects. \n",
        "\n",
        "Instead, I'm going to kip to the final ✏️ [Try it out!](https://huggingface.co/course/chapter5/5?fw=pt#:~:text=issues%20and%20comments.-,%E2%9C%8F%EF%B8%8F%20Try%20it%20out!,-Go%20through%20the) which is to create a dataset of GitHub issues for my favorite open source library. \n",
        "\n",
        "To that end, let's play around with [spaCy](https://github.com/explosion/spaCy). \n",
        "\n",
        "As always, we'll start with a single page before requesting all of them. "
      ],
      "metadata": {
        "id": "bmx2RFdAlQbt"
      }
    },
    {
      "cell_type": "code",
      "source": [
        "!pip install datasets\n",
        "!pip install requests"
      ],
      "metadata": {
        "id": "z7iIz402q6WC"
      },
      "execution_count": null,
      "outputs": []
    },
    {
      "cell_type": "code",
      "execution_count": 7,
      "metadata": {
        "colab": {
          "base_uri": "https://localhost:8080/"
        },
        "id": "BNTBcvyqk6i8",
        "outputId": "0041c08f-e0c9-4a7e-a2c8-3d0eeed9a317"
      },
      "outputs": [
        {
          "output_type": "execute_result",
          "data": {
            "text/plain": [
              "200"
            ]
          },
          "metadata": {},
          "execution_count": 7
        }
      ],
      "source": [
        "import requests \n",
        "\n",
        "owner = 'explosion/spacy'\n",
        "\n",
        "url = \"https://api.github.com/repos/\"+owner+\"/issues?page=1&per_page=1\"\n",
        "\n",
        "response = requests.get(url)\n",
        "\n",
        "response.status_code"
      ]
    },
    {
      "cell_type": "code",
      "source": [
        "response.json()"
      ],
      "metadata": {
        "colab": {
          "base_uri": "https://localhost:8080/"
        },
        "id": "aeES-nlOl4iD",
        "outputId": "c4c0b489-b322-44cf-f464-d475efd5bc0f"
      },
      "execution_count": 8,
      "outputs": [
        {
          "output_type": "execute_result",
          "data": {
            "text/plain": [
              "[{'active_lock_reason': None,\n",
              "  'assignee': None,\n",
              "  'assignees': [],\n",
              "  'author_association': 'MEMBER',\n",
              "  'body': \"<!--- Provide a general summary of your changes in the title. -->\\r\\n\\r\\n## Description\\r\\n<!--- Use this section to describe your changes. If your changes required\\r\\ntesting, include information about the testing environment and the tests you\\r\\nran. If your test fixes a bug reported in an issue, don't forget to include the\\r\\nissue number. If your PR is still a work in progress, that's totally fine – just\\r\\ninclude a note to let us know. -->\\r\\n\\r\\nAdd edit tree lemmatizer, converted from [`spacy_experimental.edit_tree_lemmatizer`](https://github.com/explosion/spacy-experimental/tree/d01fd5b479db823772865c362b4e4e1e706cf554/spacy_experimental/edit_tree_lemmatizer)\\r\\n\\r\\n### Types of change\\r\\n<!-- What type of change does your PR cover? Is it a bug fix, an enhancement\\r\\nor new feature, or a change to the documentation? -->\\r\\n\\r\\nEnhancement\\r\\n\\r\\n## Checklist\\r\\n<!--- Before you submit the PR, go over this checklist and make sure you can\\r\\ntick off all the boxes. [] -> [x] -->\\r\\n- [x] I confirm that I have the right to submit this contribution under the project's MIT license.\\r\\n- [x] I ran the tests, and all new and existing tests passed.\\r\\n- [x] My changes don't require a change to the documentation, or if they do, I've added all required information.\\r\\n\",\n",
              "  'closed_at': None,\n",
              "  'comments': 4,\n",
              "  'comments_url': 'https://api.github.com/repos/explosion/spaCy/issues/10231/comments',\n",
              "  'created_at': '2022-02-07T13:50:50Z',\n",
              "  'draft': False,\n",
              "  'events_url': 'https://api.github.com/repos/explosion/spaCy/issues/10231/events',\n",
              "  'html_url': 'https://github.com/explosion/spaCy/pull/10231',\n",
              "  'id': 1126022906,\n",
              "  'labels': [],\n",
              "  'labels_url': 'https://api.github.com/repos/explosion/spaCy/issues/10231/labels{/name}',\n",
              "  'locked': False,\n",
              "  'milestone': None,\n",
              "  'node_id': 'PR_kwDOAUeP5s4yLDsU',\n",
              "  'number': 10231,\n",
              "  'performed_via_github_app': None,\n",
              "  'pull_request': {'diff_url': 'https://github.com/explosion/spaCy/pull/10231.diff',\n",
              "   'html_url': 'https://github.com/explosion/spaCy/pull/10231',\n",
              "   'merged_at': None,\n",
              "   'patch_url': 'https://github.com/explosion/spaCy/pull/10231.patch',\n",
              "   'url': 'https://api.github.com/repos/explosion/spaCy/pulls/10231'},\n",
              "  'reactions': {'+1': 0,\n",
              "   '-1': 0,\n",
              "   'confused': 0,\n",
              "   'eyes': 0,\n",
              "   'heart': 0,\n",
              "   'hooray': 2,\n",
              "   'laugh': 0,\n",
              "   'rocket': 0,\n",
              "   'total_count': 2,\n",
              "   'url': 'https://api.github.com/repos/explosion/spaCy/issues/10231/reactions'},\n",
              "  'repository_url': 'https://api.github.com/repos/explosion/spaCy',\n",
              "  'state': 'open',\n",
              "  'timeline_url': 'https://api.github.com/repos/explosion/spaCy/issues/10231/timeline',\n",
              "  'title': 'Add edit tree lemmatizer',\n",
              "  'updated_at': '2022-02-07T18:27:25Z',\n",
              "  'url': 'https://api.github.com/repos/explosion/spaCy/issues/10231',\n",
              "  'user': {'avatar_url': 'https://avatars.githubusercontent.com/u/5794899?v=4',\n",
              "   'events_url': 'https://api.github.com/users/adrianeboyd/events{/privacy}',\n",
              "   'followers_url': 'https://api.github.com/users/adrianeboyd/followers',\n",
              "   'following_url': 'https://api.github.com/users/adrianeboyd/following{/other_user}',\n",
              "   'gists_url': 'https://api.github.com/users/adrianeboyd/gists{/gist_id}',\n",
              "   'gravatar_id': '',\n",
              "   'html_url': 'https://github.com/adrianeboyd',\n",
              "   'id': 5794899,\n",
              "   'login': 'adrianeboyd',\n",
              "   'node_id': 'MDQ6VXNlcjU3OTQ4OTk=',\n",
              "   'organizations_url': 'https://api.github.com/users/adrianeboyd/orgs',\n",
              "   'received_events_url': 'https://api.github.com/users/adrianeboyd/received_events',\n",
              "   'repos_url': 'https://api.github.com/users/adrianeboyd/repos',\n",
              "   'site_admin': False,\n",
              "   'starred_url': 'https://api.github.com/users/adrianeboyd/starred{/owner}{/repo}',\n",
              "   'subscriptions_url': 'https://api.github.com/users/adrianeboyd/subscriptions',\n",
              "   'type': 'User',\n",
              "   'url': 'https://api.github.com/users/adrianeboyd'}}]"
            ]
          },
          "metadata": {},
          "execution_count": 8
        }
      ]
    },
    {
      "cell_type": "code",
      "source": [
        "GITHUB_TOKEN = XXXXXX\n",
        "headers = {\"Authorization\": f\"token {GITHUB_TOKEN}\"}"
      ],
      "metadata": {
        "id": "Dmazj_zKl8jQ"
      },
      "execution_count": 9,
      "outputs": []
    },
    {
      "cell_type": "code",
      "source": [
        "import time\n",
        "from math import ceil \n",
        "from pathlib import Path \n",
        "import pandas as pd \n",
        "from tqdm.notebook import tqdm "
      ],
      "metadata": {
        "id": "OFCkB5XbmA3i"
      },
      "execution_count": 10,
      "outputs": []
    },
    {
      "cell_type": "code",
      "source": [
        "defaults = {'owner':'explosion',\n",
        "            'repo': 'spacy',\n",
        "            'num_issues': 100,\n",
        "            'rate_limit': 5_000}"
      ],
      "metadata": {
        "id": "rHJ72XXimeZF"
      },
      "execution_count": 15,
      "outputs": []
    },
    {
      "cell_type": "code",
      "source": [
        "def fetch_issues(   \n",
        "    owner='explosion',\n",
        "    repo='spacy',\n",
        "    num_issues=100,\n",
        "    rate_limit=5_000,\n",
        "    issues_path=Path(\".\"),\n",
        "    ):\n",
        "  if not issues_path.is_dir():\n",
        "    issues_path.mkdir(exist_ok=True)\n",
        "\n",
        "  batch = []\n",
        "  all_issues = []\n",
        "  per_page = 100\n",
        "  num_pages = ceil(num_issues / per_page)\n",
        "  base_url = \"https://api.github.com/repos\"\n",
        "\n",
        "  for page in tqdm(range(num_pages)):\n",
        "    query = f\"issues?page={page}&per_page={per_page}&state=all\"\n",
        "    issues = requests.get(f\"{base_url}/{owner}/{repo}/{query}\", \n",
        "                          headers=headers)\n",
        "    batch.extend(issues.json())\n",
        "\n",
        "    if len(batch) > rate_limit and len(all_issues) < num_issues:\n",
        "      all_issues.extend(batch)\n",
        "      batch = []  # Flush batch for next time period\n",
        "      print(f\"Reached GitHub rate limit. Sleeping for one hour ...\")\n",
        "      time.sleep(60 * 60 + 1)\n",
        "\n",
        "    all_issues.extend(batch)\n",
        "\n",
        "    df = pd.DataFrame.from_records(all_issues)\n",
        "    \n",
        "    df.to_json(f\"{issues_path}/{repo}-issues.jsonl\", orient=\"records\", lines=True)\n",
        "    \n",
        "    print(\n",
        "        f\"Downloaded all the issues for {repo}! Dataset stored at {issues_path}/{repo}-issues.jsonl\"\n",
        "    )"
      ],
      "metadata": {
        "id": "3zGefCdbmHc0"
      },
      "execution_count": 17,
      "outputs": []
    },
    {
      "cell_type": "code",
      "source": [
        "fetch_issues()"
      ],
      "metadata": {
        "colab": {
          "base_uri": "https://localhost:8080/",
          "height": 66,
          "referenced_widgets": [
            "60f63c1b198d4b76b02c75005ef4735d",
            "c4598bf0cfb2441ca0bd4dcc0739e91a",
            "4b70c4a4e1e940258e018ea2dac67109",
            "084533d0f1f94a66a23702495e5ea95a",
            "88c2698e9e3d450f8245a22323649df7",
            "61b08fcf972f40b7acefb963720d7579",
            "902fd0d11edd4f8b9a6ff10603bc97d5",
            "654368daec2d4801ac2c01975f240e1b",
            "68429bbe79ff4e05a3865d2f2020e3a7",
            "db781800ae6542448abb62e050c1bf52",
            "f6e650a43e3a47f79a6393e70b03b8d9"
          ]
        },
        "id": "2yzsbQyItBAn",
        "outputId": "18d990fa-cd8d-4ce1-8b68-3c90a5b183f0"
      },
      "execution_count": 18,
      "outputs": [
        {
          "output_type": "display_data",
          "data": {
            "application/vnd.jupyter.widget-view+json": {
              "model_id": "60f63c1b198d4b76b02c75005ef4735d",
              "version_minor": 0,
              "version_major": 2
            },
            "text/plain": [
              "  0%|          | 0/1 [00:00<?, ?it/s]"
            ]
          },
          "metadata": {}
        },
        {
          "output_type": "stream",
          "name": "stdout",
          "text": [
            "Downloaded all the issues for spacy! Dataset stored at ./spacy-issues.jsonl\n"
          ]
        }
      ]
    },
    {
      "cell_type": "code",
      "source": [
        "from datasets import load_dataset\n",
        "\n",
        "issues_spacy = load_dataset('json',\n",
        "                            data_files=\"spacy-issues.jsonl\")\n",
        "\n",
        "issues_spacy"
      ],
      "metadata": {
        "colab": {
          "base_uri": "https://localhost:8080/",
          "height": 208,
          "referenced_widgets": [
            "95d54965e5f74e74a73a06bdab16d687",
            "a4fc0193232443be971f70b4a8dac09d",
            "691cf9fbaaf140e4af3296b89122f2e4",
            "8d2da220d36b42a997cb146ee9652d18",
            "4a245bc3c9274760b4f5f3237d7996d7",
            "aad9c1b039c247069082a18974de9115",
            "94079e62ed1947d28d5824a482f974c9",
            "7c64f68f6cca4a2abd39d451fc14a446",
            "a5f14e671a3f490a8f7d7039e983387e",
            "a96f4de2e38748a192e31ca82763a176",
            "d88b5d3d573442878fc7621268bfcf9a"
          ]
        },
        "id": "Aak2YlRztmrd",
        "outputId": "9e6e813f-47a5-47cd-f7eb-49e4022d210c"
      },
      "execution_count": 22,
      "outputs": [
        {
          "output_type": "stream",
          "name": "stderr",
          "text": [
            "Using custom data configuration default-2c8e049d9fe0e638\n",
            "Reusing dataset json (/root/.cache/huggingface/datasets/json/default-2c8e049d9fe0e638/0.0.0/ac0ca5f5289a6cf108e706efcf040422dbbfa8e658dee6a819f20d76bb84d26b)\n"
          ]
        },
        {
          "output_type": "display_data",
          "data": {
            "application/vnd.jupyter.widget-view+json": {
              "model_id": "95d54965e5f74e74a73a06bdab16d687",
              "version_minor": 0,
              "version_major": 2
            },
            "text/plain": [
              "  0%|          | 0/1 [00:00<?, ?it/s]"
            ]
          },
          "metadata": {}
        },
        {
          "output_type": "execute_result",
          "data": {
            "text/plain": [
              "DatasetDict({\n",
              "    train: Dataset({\n",
              "        features: ['url', 'repository_url', 'labels_url', 'comments_url', 'events_url', 'html_url', 'id', 'node_id', 'number', 'title', 'user', 'labels', 'state', 'locked', 'assignee', 'assignees', 'milestone', 'comments', 'created_at', 'updated_at', 'closed_at', 'author_association', 'active_lock_reason', 'draft', 'pull_request', 'body', 'reactions', 'timeline_url', 'performed_via_github_app'],\n",
              "        num_rows: 100\n",
              "    })\n",
              "})"
            ]
          },
          "metadata": {},
          "execution_count": 22
        }
      ]
    },
    {
      "cell_type": "markdown",
      "source": [
        "Unfortunately, because of how [GitHub's REST API](https://docs.github.com/en/rest/reference/issues#list-issues-assigned-to-the-authenticated-user) works, when we download the issues, we get the pull requests as well. \n",
        "\n",
        "So, let's get rid of those 😀\n",
        "\n",
        "## [Cleaning up the data](https://huggingface.co/course/chapter5/5?fw=pt#cleaning-up-the-data)"
      ],
      "metadata": {
        "id": "HxRECtQGwf-X"
      }
    },
    {
      "cell_type": "code",
      "source": [
        ""
      ],
      "metadata": {
        "id": "-31i2QkKueAd"
      },
      "execution_count": null,
      "outputs": []
    }
  ]
}