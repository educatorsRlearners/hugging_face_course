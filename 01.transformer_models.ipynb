{
 "cells": [
  {
   "cell_type": "markdown",
   "metadata": {},
   "source": [
    "# Natural Language Processing \n",
    "\n",
    "## What is NLP? \n",
    "\n",
    "The goal of NLP is not to understand individual words but to comprehend the context of those words. \n",
    "\n",
    "Some common NLP tasks are: \n",
    "\n",
    "- **Classifying whole sentences** \n",
    "  - sentiment analysis\n",
    "  - spam classification\n",
    "  - grammatical correctness \n",
    "  - cohesion between sentences\n",
    "- **Classifying each word in a sentence**\n",
    "  - named entity recognition (NER)\n",
    "  - parts of speech (pos) \n",
    "- **Generating text content**\n",
    "  - gap fill aka cloze activity \n",
    "  - completing a prompt\n",
    "- **Extracting an answer from a text**\n",
    "  - Q&A based on a passage\n",
    "- **Generating a new sentence from a text**\n",
    "  - translation\n",
    "  - summarization"
   ]
  },
  {
   "cell_type": "markdown",
   "metadata": {},
   "source": []
  }
 ],
 "metadata": {
  "interpreter": {
   "hash": "7854db46d05884c6e2192db743b7d3c910d92682501144c66a8fe2583e56ad93"
  },
  "kernelspec": {
   "display_name": "Python 3.8.12 64-bit ('huggingface': conda)",
   "language": "python",
   "name": "python3"
  },
  "language_info": {
   "name": "python",
   "version": "3.8.12"
  },
  "orig_nbformat": 4
 },
 "nbformat": 4,
 "nbformat_minor": 2
}
